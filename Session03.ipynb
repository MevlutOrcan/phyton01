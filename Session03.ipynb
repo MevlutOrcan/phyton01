{
 "cells": [
  {
   "cell_type": "code",
   "execution_count": null,
   "metadata": {},
   "outputs": [],
   "source": [
    "if sartkosulu : \n",
    "    durum"
   ]
  },
  {
   "cell_type": "code",
   "execution_count": 3,
   "metadata": {},
   "outputs": [
    {
     "name": "stdout",
     "output_type": "stream",
     "text": [
      "Buyuk\n"
     ]
    }
   ],
   "source": [
    "a = 6\n",
    "if a> 5 :\n",
    "    print(\"Buyuk\")\n"
   ]
  },
  {
   "cell_type": "code",
   "execution_count": 5,
   "metadata": {},
   "outputs": [
    {
     "name": "stdout",
     "output_type": "stream",
     "text": [
      "Kucuk\n"
     ]
    }
   ],
   "source": [
    "a = 3\n",
    "if a> 5 :\n",
    "    print(\"Buyuk\")\n",
    "else :\n",
    "    print(\"Kucuk\")\n"
   ]
  },
  {
   "cell_type": "code",
   "execution_count": 7,
   "metadata": {},
   "outputs": [
    {
     "data": {
      "text/plain": [
       "'6'"
      ]
     },
     "execution_count": 7,
     "metadata": {},
     "output_type": "execute_result"
    }
   ],
   "source": [
    "input(\"Bir sayi giriniz\")\n",
    "# inputtan alinan tum veriler string dir \n",
    "# eger islemde kullanacaksak istedigimiz data turune cast edebiliriz"
   ]
  },
  {
   "cell_type": "code",
   "execution_count": 15,
   "metadata": {},
   "outputs": [
    {
     "name": "stdout",
     "output_type": "stream",
     "text": [
      "Notunuz 1000 Tebrikler Gectiniz\n"
     ]
    }
   ],
   "source": [
    "note = int(input(\"Matematik notunu giriniz. \"))\n",
    "if note > 50:\n",
    "    print(f\"Notunuz {note} Tebrikler Gectiniz\")\n",
    "else : \n",
    "    print(f\"Notunuz {note} Kaldiniz\")"
   ]
  },
  {
   "cell_type": "code",
   "execution_count": 16,
   "metadata": {},
   "outputs": [
    {
     "data": {
      "text/plain": [
       "int"
      ]
     },
     "execution_count": 16,
     "metadata": {},
     "output_type": "execute_result"
    }
   ],
   "source": [
    "type(note)"
   ]
  },
  {
   "cell_type": "code",
   "execution_count": 23,
   "metadata": {},
   "outputs": [
    {
     "name": "stdout",
     "output_type": "stream",
     "text": [
      "Notunuz 1, Kaldiniz\n"
     ]
    }
   ],
   "source": [
    "note = int(input(\"Matematik notunu giriniz. \"))\n",
    "if note > 100 or note < 0:\n",
    "    print(f\"Gecersiz not\")\n",
    "elif note >= 50 : \n",
    "    print(f\"Notunuz {note}, Gectiniz\")\n",
    "else : \n",
    "    print(f\"Notunuz {note}, Kaldiniz\")"
   ]
  },
  {
   "cell_type": "code",
   "execution_count": 24,
   "metadata": {},
   "outputs": [
    {
     "name": "stdout",
     "output_type": "stream",
     "text": [
      "Var\n"
     ]
    }
   ],
   "source": [
    "text = \"Benim adim Abdullah\"\n",
    "\n",
    "if \"adim\" in text:\n",
    "    print('Var')\n",
    "else:\n",
    "    print('Yok')"
   ]
  },
  {
   "cell_type": "code",
   "execution_count": 26,
   "metadata": {},
   "outputs": [
    {
     "name": "stdout",
     "output_type": "stream",
     "text": [
      "Hayir yok\n"
     ]
    }
   ],
   "source": [
    "text = \"Benim adim Abdullah\"\n",
    "\n",
    "if \"adim\" not in text:\n",
    "    print('Hayir yok')\n",
    "else:\n",
    "    print('Var')"
   ]
  },
  {
   "cell_type": "code",
   "execution_count": 29,
   "metadata": {},
   "outputs": [
    {
     "name": "stdout",
     "output_type": "stream",
     "text": [
      "Positive\n"
     ]
    }
   ],
   "source": [
    "sayi = int(input(\"Matematik notunu giriniz. \"))\n",
    "if sayi >=0:\n",
    "\n",
    "    if sayi >0:\n",
    "        print(\"Positive\")\n",
    "    else:\n",
    "        print(\"Sayi 0 dir\")\n",
    "\n",
    "else:\n",
    "    print(\"Negative\")"
   ]
  },
  {
   "attachments": {},
   "cell_type": "markdown",
   "metadata": {},
   "source": [
    "## Fonksiyon"
   ]
  },
  {
   "cell_type": "code",
   "execution_count": 30,
   "metadata": {},
   "outputs": [],
   "source": [
    "def nolsun(a,b):\n",
    "    sonuc = a * b\n",
    "    return sonuc"
   ]
  },
  {
   "cell_type": "code",
   "execution_count": 31,
   "metadata": {},
   "outputs": [
    {
     "data": {
      "text/plain": [
       "15"
      ]
     },
     "execution_count": 31,
     "metadata": {},
     "output_type": "execute_result"
    }
   ],
   "source": [
    "nolsun(3,5)"
   ]
  },
  {
   "cell_type": "code",
   "execution_count": 1,
   "metadata": {},
   "outputs": [],
   "source": [
    "def selamla():\n",
    "    print(\" Hosgeldiniz\")"
   ]
  },
  {
   "cell_type": "code",
   "execution_count": 2,
   "metadata": {},
   "outputs": [
    {
     "name": "stdout",
     "output_type": "stream",
     "text": [
      " Hosgeldiniz\n"
     ]
    }
   ],
   "source": [
    "selamla()"
   ]
  },
  {
   "cell_type": "code",
   "execution_count": 14,
   "metadata": {},
   "outputs": [],
   "source": [
    "def selamla(isim):\n",
    "    print(f\"Hosgeldiniz {isim}  Bey/Hanim\")\n",
    "    print(\"Hosgeldiniz \"+ isim +  \" Bey/Hanim\")"
   ]
  },
  {
   "cell_type": "code",
   "execution_count": 13,
   "metadata": {},
   "outputs": [
    {
     "name": "stdout",
     "output_type": "stream",
     "text": [
      "Hosgeldiniz Veli  Bey/Hanim\n",
      "HosgeldinizVeliBey/Hanim\n"
     ]
    }
   ],
   "source": [
    "selamla(\"Veli\")"
   ]
  },
  {
   "cell_type": "code",
   "execution_count": 7,
   "metadata": {},
   "outputs": [],
   "source": [
    "def terscevir(string):\n",
    "    ters = string[::-1]\n",
    "    return ters\n"
   ]
  },
  {
   "cell_type": "code",
   "execution_count": 9,
   "metadata": {},
   "outputs": [
    {
     "data": {
      "text/plain": [
       "'neB'"
      ]
     },
     "execution_count": 9,
     "metadata": {},
     "output_type": "execute_result"
    }
   ],
   "source": [
    "terscevir(\"Ben\")"
   ]
  },
  {
   "cell_type": "code",
   "execution_count": 11,
   "metadata": {},
   "outputs": [
    {
     "data": {
      "text/plain": [
       "'relyesriB'"
      ]
     },
     "execution_count": 11,
     "metadata": {},
     "output_type": "execute_result"
    }
   ],
   "source": [
    "\"Birseyler\"[::-1]\n",
    "# tersini getirdi"
   ]
  },
  {
   "cell_type": "code",
   "execution_count": 16,
   "metadata": {},
   "outputs": [],
   "source": [
    "def mutlakDeger(sayi):\n",
    "    if sayi==0:\n",
    "        print(\"Sayi Sifir\")\n",
    "    elif sayi>0:\n",
    "        print(\"Sayi Pozitif\")\n",
    "    else :\n",
    "        print(\"Sayi Negatif\")"
   ]
  },
  {
   "cell_type": "code",
   "execution_count": 20,
   "metadata": {},
   "outputs": [],
   "source": [
    "def mutlakDeger(sayi):\n",
    "    if sayi>=0:\n",
    "        return sayi\n",
    "        \n",
    "    else :\n",
    "        return sayi*-1"
   ]
  },
  {
   "cell_type": "code",
   "execution_count": 21,
   "metadata": {},
   "outputs": [
    {
     "data": {
      "text/plain": [
       "33"
      ]
     },
     "execution_count": 21,
     "metadata": {},
     "output_type": "execute_result"
    }
   ],
   "source": [
    "mutlakDeger(-33)"
   ]
  },
  {
   "cell_type": "code",
   "execution_count": 22,
   "metadata": {},
   "outputs": [],
   "source": [
    "liste = [5,2,9,6]\n",
    "# median ortalama almasi demek\n",
    "# bunun icin oncelikle siralamak gerek ->sorted()"
   ]
  },
  {
   "cell_type": "code",
   "execution_count": 30,
   "metadata": {},
   "outputs": [],
   "source": [
    "def median(liste) :\n",
    "    liste = sorted(liste)\n",
    "    m = len(liste)\n",
    "    if m%2 == 0 :\n",
    "        sonuc = (liste[int(m/2-1)]+liste[int(m/2)])/2\n",
    "        return sonuc\n",
    "    else :\n",
    "        sonuc = liste[int((m+1)/2-1)]\n",
    "        return sonuc"
   ]
  },
  {
   "cell_type": "code",
   "execution_count": 25,
   "metadata": {},
   "outputs": [
    {
     "data": {
      "text/plain": [
       "2"
      ]
     },
     "execution_count": 25,
     "metadata": {},
     "output_type": "execute_result"
    }
   ],
   "source": [
    "5//2\n",
    "#  // -> cift slash  bolum islemini yapiyor ama sadece boleni aliyor\n",
    "#  kalanla ve onun islemiyle ilgilenmiyor kusurat vermiyor"
   ]
  },
  {
   "cell_type": "code",
   "execution_count": 26,
   "metadata": {},
   "outputs": [
    {
     "data": {
      "text/plain": [
       "12"
      ]
     },
     "execution_count": 26,
     "metadata": {},
     "output_type": "execute_result"
    }
   ],
   "source": [
    "round(12.5) # 12 \n",
    "# eger .5 ise\n",
    "# round() en yakin cift sayiya yuvarlar"
   ]
  },
  {
   "cell_type": "code",
   "execution_count": 27,
   "metadata": {},
   "outputs": [
    {
     "data": {
      "text/plain": [
       "14"
      ]
     },
     "execution_count": 27,
     "metadata": {},
     "output_type": "execute_result"
    }
   ],
   "source": [
    "round(13.5)\n",
    "# round() en yakin cift sayiya yuvarlar"
   ]
  },
  {
   "cell_type": "code",
   "execution_count": 28,
   "metadata": {},
   "outputs": [
    {
     "data": {
      "text/plain": [
       "0"
      ]
     },
     "execution_count": 28,
     "metadata": {},
     "output_type": "execute_result"
    }
   ],
   "source": [
    "round(0.5)"
   ]
  },
  {
   "cell_type": "code",
   "execution_count": 34,
   "metadata": {},
   "outputs": [
    {
     "data": {
      "text/plain": [
       "6"
      ]
     },
     "execution_count": 34,
     "metadata": {},
     "output_type": "execute_result"
    }
   ],
   "source": [
    "median(liste)"
   ]
  },
  {
   "cell_type": "code",
   "execution_count": 33,
   "metadata": {},
   "outputs": [],
   "source": [
    "liste = [5,2,9,6,11]"
   ]
  },
  {
   "cell_type": "code",
   "execution_count": 44,
   "metadata": {},
   "outputs": [],
   "source": [
    "#verilen kordinatlara gore belirlenen noktalarin birbirine uzakligini bulma\n",
    "def mesafe(x1,y1,x2,y2):\n",
    "    mesafem = ((x2-x1)**2 + (y2-y1)**2)**0.5\n",
    "    return mesafem\n"
   ]
  },
  {
   "cell_type": "code",
   "execution_count": 45,
   "metadata": {},
   "outputs": [
    {
     "data": {
      "text/plain": [
       "5.0"
      ]
     },
     "execution_count": 45,
     "metadata": {},
     "output_type": "execute_result"
    }
   ],
   "source": [
    "mesafe(0,0,3,4)"
   ]
  },
  {
   "cell_type": "code",
   "execution_count": 63,
   "metadata": {},
   "outputs": [],
   "source": [
    "def faktoriyel(sayi):\n",
    "    faktoriyel=1\n",
    "    if (sayi == 0 or sayi == 1):\n",
    "        return faktoriyel\n",
    "    else:\n",
    "        while sayi>1:\n",
    "            faktoriyel*=sayi\n",
    "            sayi-=1\n",
    "\n",
    "        return faktoriyel\n",
    "\n",
    "# return mevzuu onemli"
   ]
  },
  {
   "cell_type": "code",
   "execution_count": 62,
   "metadata": {},
   "outputs": [
    {
     "data": {
      "text/plain": [
       "145"
      ]
     },
     "execution_count": 62,
     "metadata": {},
     "output_type": "execute_result"
    }
   ],
   "source": [
    "faktoriyel(5)+faktoriyel(4)+faktoriyel(0)\n",
    "# \n"
   ]
  },
  {
   "cell_type": "code",
   "execution_count": 64,
   "metadata": {},
   "outputs": [],
   "source": [
    "liste = [5,2,9,6,11]"
   ]
  },
  {
   "cell_type": "code",
   "execution_count": 80,
   "metadata": {},
   "outputs": [],
   "source": [
    "#listeye herhangi bir sayi ekleme fonksiyonu\n",
    "def sifirEkle(liste,sayi):\n",
    "    \"\"\"\n",
    "    Bu fonksiyon listeme eleman eklemek icin olusturulmustur\n",
    "    liste : Lutfen bir liste giriniz\n",
    "    sayi : Listeye eklenecek elemani giriniz\n",
    "    \"\"\"\n",
    "    if sayi in liste:\n",
    "        print(f\"{sayi} sayisi zaten var\")\n",
    "    else:\n",
    "        liste.append(sayi)\n",
    "    return liste\n"
   ]
  },
  {
   "cell_type": "code",
   "execution_count": 78,
   "metadata": {},
   "outputs": [
    {
     "name": "stdout",
     "output_type": "stream",
     "text": [
      "55 sayisi zaten var\n"
     ]
    },
    {
     "data": {
      "text/plain": [
       "[5, 2, 9, 6, 11, 0, 55]"
      ]
     },
     "execution_count": 78,
     "metadata": {},
     "output_type": "execute_result"
    }
   ],
   "source": [
    "sifirEkle(liste,55)"
   ]
  },
  {
   "cell_type": "code",
   "execution_count": 79,
   "metadata": {},
   "outputs": [
    {
     "data": {
      "text/plain": [
       "55"
      ]
     },
     "execution_count": 79,
     "metadata": {},
     "output_type": "execute_result"
    }
   ],
   "source": [
    "liste.pop()\n",
    "# listede sondaki elemani siler"
   ]
  },
  {
   "cell_type": "code",
   "execution_count": 81,
   "metadata": {},
   "outputs": [],
   "source": [
    "# fonksiyon icindeki bir sayiyi fonksiyon disinda da kullanmak icin global atamam lazim\n",
    "def global_mi():\n",
    "    print(\"Calisiyorum\")\n",
    "    global benim_sayim\n",
    "    benim_sayim=3"
   ]
  },
  {
   "cell_type": "code",
   "execution_count": 83,
   "metadata": {},
   "outputs": [
    {
     "name": "stdout",
     "output_type": "stream",
     "text": [
      "Calisiyorum\n"
     ]
    }
   ],
   "source": [
    "global_mi()"
   ]
  },
  {
   "cell_type": "code",
   "execution_count": 84,
   "metadata": {},
   "outputs": [
    {
     "data": {
      "text/plain": [
       "3"
      ]
     },
     "execution_count": 84,
     "metadata": {},
     "output_type": "execute_result"
    }
   ],
   "source": [
    "benim_sayim"
   ]
  },
  {
   "cell_type": "code",
   "execution_count": null,
   "metadata": {},
   "outputs": [],
   "source": [
    "#fonksiyon icinde bir variable i global yapip baska yerde kullanmak istersek once fonksiyonu\n",
    "            #bir kez calistirmaliyiz."
   ]
  }
 ],
 "metadata": {
  "kernelspec": {
   "display_name": "Python 3",
   "language": "python",
   "name": "python3"
  },
  "language_info": {
   "codemirror_mode": {
    "name": "ipython",
    "version": 3
   },
   "file_extension": ".py",
   "mimetype": "text/x-python",
   "name": "python",
   "nbconvert_exporter": "python",
   "pygments_lexer": "ipython3",
   "version": "3.10.6"
  },
  "orig_nbformat": 4,
  "vscode": {
   "interpreter": {
    "hash": "b14ca8371635b60db84783462cfd745b5f9b594739a2ca2a79f724eaee2d9014"
   }
  }
 },
 "nbformat": 4,
 "nbformat_minor": 2
}
