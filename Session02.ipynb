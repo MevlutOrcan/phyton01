{
 "cells": [
  {
   "cell_type": "code",
   "execution_count": 6,
   "metadata": {},
   "outputs": [],
   "source": [
    "## String Operations"
   ]
  },
  {
   "cell_type": "code",
   "execution_count": 7,
   "metadata": {},
   "outputs": [
    {
     "data": {
      "text/plain": [
       "'Tarkan'"
      ]
     },
     "execution_count": 7,
     "metadata": {},
     "output_type": "execute_result"
    }
   ],
   "source": [
    "\"Tarkan\""
   ]
  },
  {
   "cell_type": "code",
   "execution_count": 8,
   "metadata": {},
   "outputs": [
    {
     "data": {
      "text/plain": [
       "'Tarkan'"
      ]
     },
     "execution_count": 8,
     "metadata": {},
     "output_type": "execute_result"
    }
   ],
   "source": [
    "\"\"\"Tarkan\"\"\""
   ]
  },
  {
   "cell_type": "code",
   "execution_count": 9,
   "metadata": {},
   "outputs": [
    {
     "name": "stdout",
     "output_type": "stream",
     "text": [
      "Hello World\n"
     ]
    }
   ],
   "source": [
    "print('Hello World')"
   ]
  },
  {
   "cell_type": "code",
   "execution_count": 10,
   "metadata": {},
   "outputs": [
    {
     "data": {
      "text/plain": [
       "'Tarkan'"
      ]
     },
     "execution_count": 10,
     "metadata": {},
     "output_type": "execute_result"
    }
   ],
   "source": [
    "name=\"Tarkan\"\n",
    "name"
   ]
  },
  {
   "cell_type": "code",
   "execution_count": 12,
   "metadata": {},
   "outputs": [
    {
     "data": {
      "text/plain": [
       "'T'"
      ]
     },
     "execution_count": 12,
     "metadata": {},
     "output_type": "execute_result"
    }
   ],
   "source": [
    "name[0] #--> name string degerinin ilk elemanini getirir"
   ]
  },
  {
   "cell_type": "code",
   "execution_count": 13,
   "metadata": {},
   "outputs": [
    {
     "data": {
      "text/plain": [
       "'n'"
      ]
     },
     "execution_count": 13,
     "metadata": {},
     "output_type": "execute_result"
    }
   ],
   "source": [
    "name[-1]"
   ]
  },
  {
   "cell_type": "code",
   "execution_count": 14,
   "metadata": {},
   "outputs": [
    {
     "data": {
      "text/plain": [
       "'Tar'"
      ]
     },
     "execution_count": 14,
     "metadata": {},
     "output_type": "execute_result"
    }
   ],
   "source": [
    "name[0:3]"
   ]
  },
  {
   "cell_type": "code",
   "execution_count": 21,
   "metadata": {},
   "outputs": [
    {
     "data": {
      "text/plain": [
       "'ak'"
      ]
     },
     "execution_count": 21,
     "metadata": {},
     "output_type": "execute_result"
    }
   ],
   "source": [
    "name[0:5:2] # 0 dan 5 e kadar 2. ye atlaya atlaya gider"
   ]
  },
  {
   "cell_type": "code",
   "execution_count": 22,
   "metadata": {},
   "outputs": [
    {
     "data": {
      "text/plain": [
       "'Tarkan is the best'"
      ]
     },
     "execution_count": 22,
     "metadata": {},
     "output_type": "execute_result"
    }
   ],
   "source": [
    "name+ \" is the best\""
   ]
  },
  {
   "cell_type": "code",
   "execution_count": 23,
   "metadata": {},
   "outputs": [
    {
     "data": {
      "text/plain": [
       "'Tarkan'"
      ]
     },
     "execution_count": 23,
     "metadata": {},
     "output_type": "execute_result"
    }
   ],
   "source": [
    "name"
   ]
  },
  {
   "cell_type": "code",
   "execution_count": 28,
   "metadata": {},
   "outputs": [],
   "source": [
    "name1=name+ \" is the best \"\n"
   ]
  },
  {
   "cell_type": "code",
   "execution_count": 25,
   "metadata": {},
   "outputs": [
    {
     "data": {
      "text/plain": [
       "'Tarkan is the best'"
      ]
     },
     "execution_count": 25,
     "metadata": {},
     "output_type": "execute_result"
    }
   ],
   "source": [
    "name1"
   ]
  },
  {
   "cell_type": "code",
   "execution_count": 29,
   "metadata": {},
   "outputs": [
    {
     "data": {
      "text/plain": [
       "'Tarkan is the best Tarkan is the best Tarkan is the best '"
      ]
     },
     "execution_count": 29,
     "metadata": {},
     "output_type": "execute_result"
    }
   ],
   "source": [
    "name1*3"
   ]
  },
  {
   "cell_type": "code",
   "execution_count": 32,
   "metadata": {},
   "outputs": [
    {
     "name": "stdout",
     "output_type": "stream",
     "text": [
      "Tarkan is \n",
      " the best\n"
     ]
    }
   ],
   "source": [
    "print(\"Tarkan is \\n the best\") # \\n -> alt satira gecer"
   ]
  },
  {
   "cell_type": "code",
   "execution_count": 33,
   "metadata": {},
   "outputs": [
    {
     "name": "stdout",
     "output_type": "stream",
     "text": [
      "Tarkan is \t the best\n"
     ]
    }
   ],
   "source": [
    "print(\"Tarkan is \\t the best\") # \\t -> bir tab bosluk atar"
   ]
  },
  {
   "cell_type": "code",
   "execution_count": 34,
   "metadata": {},
   "outputs": [
    {
     "name": "stdout",
     "output_type": "stream",
     "text": [
      "Tarkan is \\ the best\n"
     ]
    }
   ],
   "source": [
    "print(\"Tarkan is \\ the best\") # \\t -> bir tab bosluk atar"
   ]
  },
  {
   "cell_type": "code",
   "execution_count": 35,
   "metadata": {},
   "outputs": [
    {
     "name": "stdout",
     "output_type": "stream",
     "text": [
      "Tarkan is\n",
      " the best\n"
     ]
    }
   ],
   "source": [
    "print('''Tarkan is\n",
    " the best''') # 3 tirnak ile arada \\n yapmadan enter ile yazabiliyoruz"
   ]
  },
  {
   "cell_type": "code",
   "execution_count": 36,
   "metadata": {},
   "outputs": [
    {
     "data": {
      "text/plain": [
       "''"
      ]
     },
     "execution_count": 36,
     "metadata": {},
     "output_type": "execute_result"
    }
   ],
   "source": [
    "' k ' # -> tek tirnak kelime icin\n",
    "\" c \" # -> cift tirnak cumle icin\n",
    "''' p ''' # -> uc tirnak paragraf icin (pep8 kurallari)"
   ]
  },
  {
   "cell_type": "code",
   "execution_count": 37,
   "metadata": {},
   "outputs": [
    {
     "name": "stdout",
     "output_type": "stream",
     "text": [
      "ben geldim\n"
     ]
    }
   ],
   "source": [
    "print(f\"ben geldim\") # f formatlama demektir, istedigimiz formati olusturup kullanabiliriz"
   ]
  },
  {
   "cell_type": "code",
   "execution_count": 45,
   "metadata": {},
   "outputs": [
    {
     "data": {
      "text/plain": [
       "'TARKAN'"
      ]
     },
     "execution_count": 45,
     "metadata": {},
     "output_type": "execute_result"
    }
   ],
   "source": [
    "name.lower() # -> hepsi kucuk harf\n",
    "name.upper() # -> hepsi buyuk harf\n"
   ]
  },
  {
   "cell_type": "code",
   "execution_count": 51,
   "metadata": {},
   "outputs": [
    {
     "data": {
      "text/plain": [
       "'Tarkan Is The Best '"
      ]
     },
     "execution_count": 51,
     "metadata": {},
     "output_type": "execute_result"
    }
   ],
   "source": [
    "name1.title() # -> Her kelimenin ilk harfini buyuk yapar"
   ]
  },
  {
   "cell_type": "code",
   "execution_count": 56,
   "metadata": {},
   "outputs": [],
   "source": [
    "yeni=name1.split()"
   ]
  },
  {
   "cell_type": "code",
   "execution_count": 58,
   "metadata": {},
   "outputs": [
    {
     "data": {
      "text/plain": [
       "['Tarkan', 'is', 'the', 'best']"
      ]
     },
     "execution_count": 58,
     "metadata": {},
     "output_type": "execute_result"
    }
   ],
   "source": [
    "(yeni)"
   ]
  },
  {
   "cell_type": "code",
   "execution_count": null,
   "metadata": {},
   "outputs": [
    {
     "data": {
      "text/plain": [
       "list"
      ]
     },
     "metadata": {},
     "output_type": "display_data"
    }
   ],
   "source": [
    "type(yeni)"
   ]
  },
  {
   "cell_type": "code",
   "execution_count": 59,
   "metadata": {},
   "outputs": [
    {
     "data": {
      "text/plain": [
       "['Tarkan', 'is']"
      ]
     },
     "execution_count": 59,
     "metadata": {},
     "output_type": "execute_result"
    }
   ],
   "source": [
    "yeni[0:2]"
   ]
  },
  {
   "cell_type": "code",
   "execution_count": 60,
   "metadata": {},
   "outputs": [
    {
     "data": {
      "text/plain": [
       "'Ajda is the best '"
      ]
     },
     "execution_count": 60,
     "metadata": {},
     "output_type": "execute_result"
    }
   ],
   "source": [
    "name1.replace(\"Tarkan\",\"Ajda\")"
   ]
  },
  {
   "cell_type": "code",
   "execution_count": 61,
   "metadata": {},
   "outputs": [
    {
     "data": {
      "text/plain": [
       "'Tarkan is the best '"
      ]
     },
     "execution_count": 61,
     "metadata": {},
     "output_type": "execute_result"
    }
   ],
   "source": [
    "name1"
   ]
  },
  {
   "cell_type": "code",
   "execution_count": 63,
   "metadata": {},
   "outputs": [
    {
     "data": {
      "text/plain": [
       "'XXedrfsaa'"
      ]
     },
     "execution_count": 63,
     "metadata": {},
     "output_type": "execute_result"
    }
   ],
   "source": [
    "letters=\"aaedrfsaa\"\n",
    "letters.replace(\"a\",\"X\",2) # -> burda buldugun ilk iki a yi X e ceviriyor"
   ]
  },
  {
   "cell_type": "code",
   "execution_count": 64,
   "metadata": {},
   "outputs": [
    {
     "data": {
      "text/plain": [
       "'s'"
      ]
     },
     "execution_count": 64,
     "metadata": {},
     "output_type": "execute_result"
    }
   ],
   "source": [
    "letters[-3] # index -1 bize son harfi verir -3 dedigimizde ise son harfi degil ikinci degil ucuncu harfi verir\n",
    "# -> index konusunda - den giderken range e dikkat etmek lazim sayinin disina cikmamak lazim"
   ]
  },
  {
   "cell_type": "code",
   "execution_count": 69,
   "metadata": {},
   "outputs": [
    {
     "name": "stdout",
     "output_type": "stream",
     "text": [
      "Benim aracimin maximum hizi 100 km ve motor hacmi 2.4 dir\n"
     ]
    }
   ],
   "source": [
    "max_hiz=100;\n",
    "motor=2.4\n",
    "print(f\"Benim aracimin maximum hizi {max_hiz} km ve motor hacmi {motor} dir\")\n",
    "# f herfini kullanarak string icinde suslu parantezle variable tanimlayabiliyoruz"
   ]
  },
  {
   "cell_type": "code",
   "execution_count": 72,
   "metadata": {},
   "outputs": [
    {
     "name": "stdout",
     "output_type": "stream",
     "text": [
      "Benim aracimin maximum hizi 100 km ve motor hacmi 2.4 dir\n"
     ]
    }
   ],
   "source": [
    "max_hiz=100;\n",
    "motor=2.4\n",
    "print(\"Benim aracimin maximum hizi {} km ve motor hacmi {} dir\".format(max_hiz,motor))\n"
   ]
  },
  {
   "attachments": {},
   "cell_type": "markdown",
   "metadata": {},
   "source": [
    "# Dictionaries\n"
   ]
  },
  {
   "cell_type": "code",
   "execution_count": 75,
   "metadata": {},
   "outputs": [],
   "source": [
    "s={};"
   ]
  },
  {
   "cell_type": "code",
   "execution_count": 76,
   "metadata": {},
   "outputs": [
    {
     "data": {
      "text/plain": [
       "dict"
      ]
     },
     "execution_count": 76,
     "metadata": {},
     "output_type": "execute_result"
    }
   ],
   "source": [
    "type(s)"
   ]
  },
  {
   "cell_type": "code",
   "execution_count": 79,
   "metadata": {},
   "outputs": [],
   "source": [
    "s[\"isim\"]=\"Abdullah\""
   ]
  },
  {
   "cell_type": "code",
   "execution_count": 87,
   "metadata": {},
   "outputs": [],
   "source": [
    "s[\"yas\"]=12\n",
    "s[\"Yer\"]=\"Istanbul\"\n"
   ]
  },
  {
   "cell_type": "code",
   "execution_count": 88,
   "metadata": {},
   "outputs": [
    {
     "data": {
      "text/plain": [
       "{'isim': 'Abdullah', 'yas': 12, 'Yer': 'Istanbul', 5: 4}"
      ]
     },
     "execution_count": 88,
     "metadata": {},
     "output_type": "execute_result"
    }
   ],
   "source": [
    "s"
   ]
  },
  {
   "cell_type": "code",
   "execution_count": 89,
   "metadata": {},
   "outputs": [
    {
     "data": {
      "text/plain": [
       "'Abdullah'"
      ]
     },
     "execution_count": 89,
     "metadata": {},
     "output_type": "execute_result"
    }
   ],
   "source": [
    "s[\"isim\"]"
   ]
  },
  {
   "cell_type": "code",
   "execution_count": 90,
   "metadata": {},
   "outputs": [
    {
     "name": "stdout",
     "output_type": "stream",
     "text": [
      "Merhaba, benim adim Abdullah]\n"
     ]
    }
   ],
   "source": [
    "print(f\"Merhaba, benim adim {s['isim']}]\")"
   ]
  },
  {
   "cell_type": "code",
   "execution_count": 93,
   "metadata": {},
   "outputs": [
    {
     "name": "stdout",
     "output_type": "stream",
     "text": [
      "Bana Istanbul'da \"Hadi gidelim\" dedi\n"
     ]
    }
   ],
   "source": [
    "#print(\"Bana Istanbul'da \"Hadi gidelim\" dedi\") # -> Bu kisimda tirnak sayilarindan kaynakli hatalar oluyor 1-2-3 tirnakla islerimi cozuyorum\n",
    "print('''Bana Istanbul'da \"Hadi gidelim\" dedi''') # Dogrusu -> Bana Istanbul'da \"Hadi gidelim\" dedi"
   ]
  },
  {
   "cell_type": "code",
   "execution_count": 96,
   "metadata": {},
   "outputs": [
    {
     "name": "stdout",
     "output_type": "stream",
     "text": [
      "Benim adim Mehmet, 12 yasindayim ve Istanbul ilinde dogdum\n"
     ]
    }
   ],
   "source": [
    "print(f\"Benim adim {s['isim']}, {s['yas']} yasindayim ve {s['Yer']} ilinde dogdum\")"
   ]
  },
  {
   "cell_type": "code",
   "execution_count": 95,
   "metadata": {},
   "outputs": [],
   "source": [
    "s['isim']=\"Mehmet\""
   ]
  },
  {
   "cell_type": "code",
   "execution_count": 31,
   "metadata": {},
   "outputs": [],
   "source": [
    "empires = {'Ghaznavid Dynasty': 963, 'Delhi Sultanate': 1206, 'Hunnic Empire': 370,\n",
    "           'Hittite Empire': -1463, 'Gokturk Khaganate': 552, 'Ottoman Empire': 1299}"
   ]
  },
  {
   "cell_type": "code",
   "execution_count": 98,
   "metadata": {},
   "outputs": [
    {
     "data": {
      "text/plain": [
       "-1463"
      ]
     },
     "execution_count": 98,
     "metadata": {},
     "output_type": "execute_result"
    }
   ],
   "source": [
    "empires['Hittite Empire']"
   ]
  },
  {
   "cell_type": "code",
   "execution_count": 99,
   "metadata": {},
   "outputs": [
    {
     "data": {
      "text/plain": [
       "dict_keys(['Ghaznavid Dynasty', 'Delhi Sultanate', 'Hunnic Empire', 'Hittite Empire', 'Gokturk Khaganate', 'Ottoman Empire'])"
      ]
     },
     "execution_count": 99,
     "metadata": {},
     "output_type": "execute_result"
    }
   ],
   "source": [
    "empires.keys()# -> Sadece key ler"
   ]
  },
  {
   "cell_type": "code",
   "execution_count": 100,
   "metadata": {},
   "outputs": [
    {
     "data": {
      "text/plain": [
       "dict_values([963, 1206, 370, -1463, 552, 1299])"
      ]
     },
     "execution_count": 100,
     "metadata": {},
     "output_type": "execute_result"
    }
   ],
   "source": [
    "empires.values() # sadece value ler"
   ]
  },
  {
   "cell_type": "code",
   "execution_count": 101,
   "metadata": {},
   "outputs": [
    {
     "data": {
      "text/plain": [
       "True"
      ]
     },
     "execution_count": 101,
     "metadata": {},
     "output_type": "execute_result"
    }
   ],
   "source": [
    "'Ottoman Empire' in empires"
   ]
  },
  {
   "cell_type": "code",
   "execution_count": 1,
   "metadata": {},
   "outputs": [],
   "source": [
    "empires_extended = {'Han Dynasty':        {'Origin': 'China', 'From': '206 BC', 'To': '220'},\n",
    "                    'Empire of Harsha':   {'Origin': 'Northern India', 'From': '606', 'To': '647'},\n",
    "                    'Hephthalite Empire': {'Origin': 'Afghanistan', 'From': '420', 'To': '567'},\n",
    "                    'Hittite Empire':     {'Origin': 'Anatolia', 'From': '1460 BC', 'To': '1180 BC'},\n",
    "                    'Holy Roman Empire':  {'Origin': 'Central Europe', 'From': '962', 'To': '1806'},\n",
    "                    'Hotaki Dynasty':     {'Origin': 'Persia', 'From': '1709', 'To': '1738'},\n",
    "                    'Hoysala Empire':     {'Origin': 'India', 'From': '1026', 'To': '1343'},\n",
    "                    'Hunnic Empire':      {'Origin': 'Eurasia', 'From': '370', 'To': '469'},\n",
    "                    'Idrisid dynasty':    {'Origin': 'Morocco', 'From': '788', 'To': '974'},\n",
    "                    'Ilkhanate':          {'Origin': 'Persia', 'From': '1256', 'To': '1335'}}"
   ]
  },
  {
   "cell_type": "code",
   "execution_count": 2,
   "metadata": {},
   "outputs": [
    {
     "data": {
      "text/plain": [
       "'Anatolia'"
      ]
     },
     "execution_count": 2,
     "metadata": {},
     "output_type": "execute_result"
    }
   ],
   "source": [
    "empires_extended[\"Hittite Empire\"][\"Origin\"]"
   ]
  },
  {
   "cell_type": "code",
   "execution_count": 3,
   "metadata": {},
   "outputs": [
    {
     "data": {
      "text/plain": [
       "dict_keys(['Han Dynasty', 'Empire of Harsha', 'Hephthalite Empire', 'Hittite Empire', 'Holy Roman Empire', 'Hotaki Dynasty', 'Hoysala Empire', 'Hunnic Empire', 'Idrisid dynasty', 'Ilkhanate'])"
      ]
     },
     "execution_count": 3,
     "metadata": {},
     "output_type": "execute_result"
    }
   ],
   "source": [
    "empires_extended.keys()"
   ]
  },
  {
   "cell_type": "code",
   "execution_count": 4,
   "metadata": {},
   "outputs": [
    {
     "data": {
      "text/plain": [
       "dict_values([{'Origin': 'China', 'From': '206 BC', 'To': '220'}, {'Origin': 'Northern India', 'From': '606', 'To': '647'}, {'Origin': 'Afghanistan', 'From': '420', 'To': '567'}, {'Origin': 'Anatolia', 'From': '1460 BC', 'To': '1180 BC'}, {'Origin': 'Central Europe', 'From': '962', 'To': '1806'}, {'Origin': 'Persia', 'From': '1709', 'To': '1738'}, {'Origin': 'India', 'From': '1026', 'To': '1343'}, {'Origin': 'Eurasia', 'From': '370', 'To': '469'}, {'Origin': 'Morocco', 'From': '788', 'To': '974'}, {'Origin': 'Persia', 'From': '1256', 'To': '1335'}])"
      ]
     },
     "execution_count": 4,
     "metadata": {},
     "output_type": "execute_result"
    }
   ],
   "source": [
    "empires_extended.values()"
   ]
  },
  {
   "cell_type": "code",
   "execution_count": 5,
   "metadata": {},
   "outputs": [
    {
     "data": {
      "text/plain": [
       "False"
      ]
     },
     "execution_count": 5,
     "metadata": {},
     "output_type": "execute_result"
    }
   ],
   "source": [
    "\"Ottoman Empires\" in empires_extended"
   ]
  },
  {
   "cell_type": "code",
   "execution_count": 6,
   "metadata": {},
   "outputs": [
    {
     "data": {
      "text/plain": [
       "{'Origin': 'Eurasia', 'From': '370', 'To': '469'}"
      ]
     },
     "execution_count": 6,
     "metadata": {},
     "output_type": "execute_result"
    }
   ],
   "source": [
    "empires_extended[\"Hunnic Empire\"]"
   ]
  },
  {
   "cell_type": "code",
   "execution_count": 11,
   "metadata": {},
   "outputs": [
    {
     "data": {
      "text/plain": [
       "99"
      ]
     },
     "execution_count": 11,
     "metadata": {},
     "output_type": "execute_result"
    }
   ],
   "source": [
    "int(empires_extended[\"Hunnic Empire\"][\"To\"]) - int(empires_extended[\"Hunnic Empire\"][\"From\"])\n",
    "# data casting icin int() parantezine almak yeterli"
   ]
  },
  {
   "cell_type": "code",
   "execution_count": 12,
   "metadata": {},
   "outputs": [],
   "source": [
    "empires_extended[\"Great Seljuk Empires\"]={\"Origin\": \"Asia Minor\",\"From\" : 1037, \"To\" : 1194}"
   ]
  },
  {
   "cell_type": "code",
   "execution_count": 13,
   "metadata": {},
   "outputs": [
    {
     "data": {
      "text/plain": [
       "157"
      ]
     },
     "execution_count": 13,
     "metadata": {},
     "output_type": "execute_result"
    }
   ],
   "source": [
    "empires_extended[\"Great Seljuk Empires\"][\"To\"] - empires_extended[\"Great Seljuk Empires\"][\"From\"]"
   ]
  },
  {
   "cell_type": "code",
   "execution_count": 16,
   "metadata": {},
   "outputs": [],
   "source": [
    "empires_extended[\"Great Seljuk Empires\"][\"Duration\"]=empires_extended[\"Great Seljuk Empires\"][\"To\"] - empires_extended[\"Great Seljuk Empires\"][\"From\"]"
   ]
  },
  {
   "cell_type": "code",
   "execution_count": 17,
   "metadata": {},
   "outputs": [
    {
     "data": {
      "text/plain": [
       "{'Origin': 'Asia Minor', 'From': 1037, 'To': 1194, 'Duration': 157}"
      ]
     },
     "execution_count": 17,
     "metadata": {},
     "output_type": "execute_result"
    }
   ],
   "source": [
    "empires_extended[\"Great Seljuk Empires\"]\n"
   ]
  },
  {
   "cell_type": "code",
   "execution_count": 18,
   "metadata": {},
   "outputs": [
    {
     "data": {
      "text/plain": [
       "{'Han Dynasty': {'Origin': 'China', 'From': '206 BC', 'To': '220'},\n",
       " 'Empire of Harsha': {'Origin': 'Northern India', 'From': '606', 'To': '647'},\n",
       " 'Hephthalite Empire': {'Origin': 'Afghanistan', 'From': '420', 'To': '567'},\n",
       " 'Hittite Empire': {'Origin': 'Anatolia', 'From': '1460 BC', 'To': '1180 BC'},\n",
       " 'Holy Roman Empire': {'Origin': 'Central Europe',\n",
       "  'From': '962',\n",
       "  'To': '1806'},\n",
       " 'Hotaki Dynasty': {'Origin': 'Persia', 'From': '1709', 'To': '1738'},\n",
       " 'Hoysala Empire': {'Origin': 'India', 'From': '1026', 'To': '1343'},\n",
       " 'Hunnic Empire': {'Origin': 'Eurasia', 'From': '370', 'To': '469'},\n",
       " 'Idrisid dynasty': {'Origin': 'Morocco', 'From': '788', 'To': '974'},\n",
       " 'Ilkhanate': {'Origin': 'Persia', 'From': '1256', 'To': '1335'},\n",
       " 'Great Seljuk Empires': {'Origin': 'Asia Minor',\n",
       "  'From': 1037,\n",
       "  'To': 1194,\n",
       "  'Duration': 157}}"
      ]
     },
     "execution_count": 18,
     "metadata": {},
     "output_type": "execute_result"
    }
   ],
   "source": [
    "empires_extended"
   ]
  },
  {
   "cell_type": "code",
   "execution_count": 19,
   "metadata": {},
   "outputs": [
    {
     "data": {
      "text/plain": [
       "11"
      ]
     },
     "execution_count": 19,
     "metadata": {},
     "output_type": "execute_result"
    }
   ],
   "source": [
    "len(empires_extended)"
   ]
  },
  {
   "cell_type": "code",
   "execution_count": 20,
   "metadata": {},
   "outputs": [],
   "source": [
    "del empires_extended[\"Great Seljuk Empires\"]\n",
    "# Silmek icin del kullaniyoruz\n"
   ]
  },
  {
   "cell_type": "code",
   "execution_count": 21,
   "metadata": {},
   "outputs": [
    {
     "data": {
      "text/plain": [
       "{'Han Dynasty': {'Origin': 'China', 'From': '206 BC', 'To': '220'},\n",
       " 'Empire of Harsha': {'Origin': 'Northern India', 'From': '606', 'To': '647'},\n",
       " 'Hephthalite Empire': {'Origin': 'Afghanistan', 'From': '420', 'To': '567'},\n",
       " 'Hittite Empire': {'Origin': 'Anatolia', 'From': '1460 BC', 'To': '1180 BC'},\n",
       " 'Holy Roman Empire': {'Origin': 'Central Europe',\n",
       "  'From': '962',\n",
       "  'To': '1806'},\n",
       " 'Hotaki Dynasty': {'Origin': 'Persia', 'From': '1709', 'To': '1738'},\n",
       " 'Hoysala Empire': {'Origin': 'India', 'From': '1026', 'To': '1343'},\n",
       " 'Hunnic Empire': {'Origin': 'Eurasia', 'From': '370', 'To': '469'},\n",
       " 'Idrisid dynasty': {'Origin': 'Morocco', 'From': '788', 'To': '974'},\n",
       " 'Ilkhanate': {'Origin': 'Persia', 'From': '1256', 'To': '1335'}}"
      ]
     },
     "execution_count": 21,
     "metadata": {},
     "output_type": "execute_result"
    }
   ],
   "source": [
    "empires_extended\n"
   ]
  },
  {
   "cell_type": "code",
   "execution_count": 22,
   "metadata": {},
   "outputs": [
    {
     "data": {
      "text/plain": [
       "['Empire of Harsha',\n",
       " 'Han Dynasty',\n",
       " 'Hephthalite Empire',\n",
       " 'Hittite Empire',\n",
       " 'Holy Roman Empire',\n",
       " 'Hotaki Dynasty',\n",
       " 'Hoysala Empire',\n",
       " 'Hunnic Empire',\n",
       " 'Idrisid dynasty',\n",
       " 'Ilkhanate']"
      ]
     },
     "execution_count": 22,
     "metadata": {},
     "output_type": "execute_result"
    }
   ],
   "source": [
    "sorted(empires_extended)\n",
    "# Alfabetik siraya gore siraladi"
   ]
  },
  {
   "cell_type": "code",
   "execution_count": null,
   "metadata": {},
   "outputs": [],
   "source": [
    "sorted(empires_extended.values())"
   ]
  },
  {
   "cell_type": "code",
   "execution_count": 28,
   "metadata": {},
   "outputs": [
    {
     "data": {
      "text/plain": [
       "['1256', '1335', 'Persia']"
      ]
     },
     "execution_count": 28,
     "metadata": {},
     "output_type": "execute_result"
    }
   ],
   "source": [
    "\n",
    "sorted(empires_extended[\"Ilkhanate\"].values())\n",
    "# sorted da value degerlerini"
   ]
  },
  {
   "cell_type": "code",
   "execution_count": 32,
   "metadata": {},
   "outputs": [
    {
     "data": {
      "text/plain": [
       "[-1463, 370, 552, 963, 1206, 1299]"
      ]
     },
     "execution_count": 32,
     "metadata": {},
     "output_type": "execute_result"
    }
   ],
   "source": [
    "sorted(empires.values())\n",
    "sorted(empires.values()) # burda values lari siralayabildi. Cunku values degerlerinin hepsi int yani hep ayni data type.\n",
    "# ancak empires_extend ' de ise obje oldugu icin siralama yapamamaktadir\n",
    "# sorted() siralama yapacagi datalarin turleri ayni olmali \n",
    "# biri string biri integer olmaz"
   ]
  },
  {
   "cell_type": "code",
   "execution_count": 34,
   "metadata": {},
   "outputs": [],
   "source": [
    "dic_a = dict(a = 1, b = 2)\n",
    "# dic_a = {a = 1, b = 2} yapabilecegimiz gibi ust satirdaki sekliyle de atama yapabiliyoruz"
   ]
  },
  {
   "cell_type": "code",
   "execution_count": 35,
   "metadata": {},
   "outputs": [
    {
     "data": {
      "text/plain": [
       "{'a': 1, 'b': 2}"
      ]
     },
     "execution_count": 35,
     "metadata": {},
     "output_type": "execute_result"
    }
   ],
   "source": [
    "dic_a"
   ]
  },
  {
   "cell_type": "code",
   "execution_count": 36,
   "metadata": {},
   "outputs": [],
   "source": [
    "dic_a.clear()\n",
    "# clear() dictinoary yi komple sifilriyoruz"
   ]
  },
  {
   "cell_type": "code",
   "execution_count": 37,
   "metadata": {},
   "outputs": [
    {
     "data": {
      "text/plain": [
       "{}"
      ]
     },
     "execution_count": 37,
     "metadata": {},
     "output_type": "execute_result"
    }
   ],
   "source": [
    "dic_a"
   ]
  },
  {
   "cell_type": "code",
   "execution_count": null,
   "metadata": {},
   "outputs": [],
   "source": []
  }
 ],
 "metadata": {
  "kernelspec": {
   "display_name": "Python 3",
   "language": "python",
   "name": "python3"
  },
  "language_info": {
   "codemirror_mode": {
    "name": "ipython",
    "version": 3
   },
   "file_extension": ".py",
   "mimetype": "text/x-python",
   "name": "python",
   "nbconvert_exporter": "python",
   "pygments_lexer": "ipython3",
   "version": "3.10.6"
  },
  "orig_nbformat": 4,
  "vscode": {
   "interpreter": {
    "hash": "b14ca8371635b60db84783462cfd745b5f9b594739a2ca2a79f724eaee2d9014"
   }
  }
 },
 "nbformat": 4,
 "nbformat_minor": 2
}
